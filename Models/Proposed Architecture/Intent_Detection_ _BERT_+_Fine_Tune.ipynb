{
  "nbformat": 4,
  "nbformat_minor": 0,
  "metadata": {
    "colab": {
      "name": "Intent Detection | BERT + Fine Tune",
      "provenance": [],
      "collapsed_sections": []
    },
    "kernelspec": {
      "name": "python3",
      "display_name": "Python 3"
    }
  },
  "cells": [
    {
      "cell_type": "markdown",
      "metadata": {
        "id": "OFOTiqrtNvyy"
      },
      "source": [
        "# Install Transformers Library"
      ]
    },
    {
      "cell_type": "code",
      "metadata": {
        "colab": {
          "base_uri": "https://localhost:8080/"
        },
        "id": "Jr3nDG6fj1J6",
        "outputId": "3c1362ca-959a-41aa-f0c9-b1a3c20685be"
      },
      "source": [
        "from google.colab import drive\r\n",
        "drive.mount('/content/drive')"
      ],
      "execution_count": 1,
      "outputs": [
        {
          "output_type": "stream",
          "text": [
            "Mounted at /content/drive\n"
          ],
          "name": "stdout"
        }
      ]
    },
    {
      "cell_type": "code",
      "metadata": {
        "id": "1hkhc10wNrGt",
        "colab": {
          "base_uri": "https://localhost:8080/"
        },
        "outputId": "10d222c4-04b1-4a2c-81ae-c8af767eb6db"
      },
      "source": [
        "# !pip install transformers\r\n",
        "!pip install transformers==2.5.1"
      ],
      "execution_count": 2,
      "outputs": [
        {
          "output_type": "stream",
          "text": [
            "Collecting transformers==2.5.1\n",
            "\u001b[?25l  Downloading https://files.pythonhosted.org/packages/13/33/ffb67897a6985a7b7d8e5e7878c3628678f553634bd3836404fef06ef19b/transformers-2.5.1-py3-none-any.whl (499kB)\n",
            "\r\u001b[K     |▋                               | 10kB 16.6MB/s eta 0:00:01\r\u001b[K     |█▎                              | 20kB 13.5MB/s eta 0:00:01\r\u001b[K     |██                              | 30kB 11.8MB/s eta 0:00:01\r\u001b[K     |██▋                             | 40kB 10.9MB/s eta 0:00:01\r\u001b[K     |███▎                            | 51kB 12.7MB/s eta 0:00:01\r\u001b[K     |████                            | 61kB 14.6MB/s eta 0:00:01\r\u001b[K     |████▋                           | 71kB 10.7MB/s eta 0:00:01\r\u001b[K     |█████▎                          | 81kB 11.1MB/s eta 0:00:01\r\u001b[K     |██████                          | 92kB 10.0MB/s eta 0:00:01\r\u001b[K     |██████▋                         | 102kB 10.5MB/s eta 0:00:01\r\u001b[K     |███████▏                        | 112kB 10.5MB/s eta 0:00:01\r\u001b[K     |███████▉                        | 122kB 10.5MB/s eta 0:00:01\r\u001b[K     |████████▌                       | 133kB 10.5MB/s eta 0:00:01\r\u001b[K     |█████████▏                      | 143kB 10.5MB/s eta 0:00:01\r\u001b[K     |█████████▉                      | 153kB 10.5MB/s eta 0:00:01\r\u001b[K     |██████████▌                     | 163kB 10.5MB/s eta 0:00:01\r\u001b[K     |███████████▏                    | 174kB 10.5MB/s eta 0:00:01\r\u001b[K     |███████████▉                    | 184kB 10.5MB/s eta 0:00:01\r\u001b[K     |████████████▌                   | 194kB 10.5MB/s eta 0:00:01\r\u001b[K     |█████████████▏                  | 204kB 10.5MB/s eta 0:00:01\r\u001b[K     |█████████████▉                  | 215kB 10.5MB/s eta 0:00:01\r\u001b[K     |██████████████▍                 | 225kB 10.5MB/s eta 0:00:01\r\u001b[K     |███████████████                 | 235kB 10.5MB/s eta 0:00:01\r\u001b[K     |███████████████▊                | 245kB 10.5MB/s eta 0:00:01\r\u001b[K     |████████████████▍               | 256kB 10.5MB/s eta 0:00:01\r\u001b[K     |█████████████████               | 266kB 10.5MB/s eta 0:00:01\r\u001b[K     |█████████████████▊              | 276kB 10.5MB/s eta 0:00:01\r\u001b[K     |██████████████████▍             | 286kB 10.5MB/s eta 0:00:01\r\u001b[K     |███████████████████             | 296kB 10.5MB/s eta 0:00:01\r\u001b[K     |███████████████████▊            | 307kB 10.5MB/s eta 0:00:01\r\u001b[K     |████████████████████▍           | 317kB 10.5MB/s eta 0:00:01\r\u001b[K     |█████████████████████           | 327kB 10.5MB/s eta 0:00:01\r\u001b[K     |█████████████████████▋          | 337kB 10.5MB/s eta 0:00:01\r\u001b[K     |██████████████████████▎         | 348kB 10.5MB/s eta 0:00:01\r\u001b[K     |███████████████████████         | 358kB 10.5MB/s eta 0:00:01\r\u001b[K     |███████████████████████▋        | 368kB 10.5MB/s eta 0:00:01\r\u001b[K     |████████████████████████▎       | 378kB 10.5MB/s eta 0:00:01\r\u001b[K     |█████████████████████████       | 389kB 10.5MB/s eta 0:00:01\r\u001b[K     |█████████████████████████▋      | 399kB 10.5MB/s eta 0:00:01\r\u001b[K     |██████████████████████████▎     | 409kB 10.5MB/s eta 0:00:01\r\u001b[K     |███████████████████████████     | 419kB 10.5MB/s eta 0:00:01\r\u001b[K     |███████████████████████████▋    | 430kB 10.5MB/s eta 0:00:01\r\u001b[K     |████████████████████████████▏   | 440kB 10.5MB/s eta 0:00:01\r\u001b[K     |████████████████████████████▉   | 450kB 10.5MB/s eta 0:00:01\r\u001b[K     |█████████████████████████████▌  | 460kB 10.5MB/s eta 0:00:01\r\u001b[K     |██████████████████████████████▏ | 471kB 10.5MB/s eta 0:00:01\r\u001b[K     |██████████████████████████████▉ | 481kB 10.5MB/s eta 0:00:01\r\u001b[K     |███████████████████████████████▌| 491kB 10.5MB/s eta 0:00:01\r\u001b[K     |████████████████████████████████| 501kB 10.5MB/s \n",
            "\u001b[?25hRequirement already satisfied: numpy in /usr/local/lib/python3.6/dist-packages (from transformers==2.5.1) (1.19.4)\n",
            "Requirement already satisfied: regex!=2019.12.17 in /usr/local/lib/python3.6/dist-packages (from transformers==2.5.1) (2019.12.20)\n",
            "Requirement already satisfied: filelock in /usr/local/lib/python3.6/dist-packages (from transformers==2.5.1) (3.0.12)\n",
            "Collecting boto3\n",
            "\u001b[?25l  Downloading https://files.pythonhosted.org/packages/69/4c/e17eb9e13c1f5141ee7c0fb9fc7b4060b86251d7933d235b91628230efe7/boto3-1.16.39-py2.py3-none-any.whl (130kB)\n",
            "\u001b[K     |████████████████████████████████| 133kB 24.9MB/s \n",
            "\u001b[?25hRequirement already satisfied: tqdm>=4.27 in /usr/local/lib/python3.6/dist-packages (from transformers==2.5.1) (4.41.1)\n",
            "Collecting sacremoses\n",
            "\u001b[?25l  Downloading https://files.pythonhosted.org/packages/7d/34/09d19aff26edcc8eb2a01bed8e98f13a1537005d31e95233fd48216eed10/sacremoses-0.0.43.tar.gz (883kB)\n",
            "\u001b[K     |████████████████████████████████| 890kB 13.2MB/s \n",
            "\u001b[?25hCollecting sentencepiece\n",
            "\u001b[?25l  Downloading https://files.pythonhosted.org/packages/e5/2d/6d4ca4bef9a67070fa1cac508606328329152b1df10bdf31fb6e4e727894/sentencepiece-0.1.94-cp36-cp36m-manylinux2014_x86_64.whl (1.1MB)\n",
            "\u001b[K     |████████████████████████████████| 1.1MB 46.5MB/s \n",
            "\u001b[?25hRequirement already satisfied: requests in /usr/local/lib/python3.6/dist-packages (from transformers==2.5.1) (2.23.0)\n",
            "Collecting tokenizers==0.5.2\n",
            "\u001b[?25l  Downloading https://files.pythonhosted.org/packages/d1/3f/73c881ea4723e43c1e9acf317cf407fab3a278daab3a69c98dcac511c04f/tokenizers-0.5.2-cp36-cp36m-manylinux1_x86_64.whl (3.7MB)\n",
            "\u001b[K     |████████████████████████████████| 3.7MB 21.3MB/s \n",
            "\u001b[?25hCollecting jmespath<1.0.0,>=0.7.1\n",
            "  Downloading https://files.pythonhosted.org/packages/07/cb/5f001272b6faeb23c1c9e0acc04d48eaaf5c862c17709d20e3469c6e0139/jmespath-0.10.0-py2.py3-none-any.whl\n",
            "Collecting botocore<1.20.0,>=1.19.39\n",
            "\u001b[?25l  Downloading https://files.pythonhosted.org/packages/88/7a/44a3411ff1b4814210197e314ab5b63e7313fc01886bbb9f04b953cfccef/botocore-1.19.39-py2.py3-none-any.whl (7.1MB)\n",
            "\u001b[K     |████████████████████████████████| 7.1MB 51.1MB/s \n",
            "\u001b[?25hCollecting s3transfer<0.4.0,>=0.3.0\n",
            "\u001b[?25l  Downloading https://files.pythonhosted.org/packages/69/79/e6afb3d8b0b4e96cefbdc690f741d7dd24547ff1f94240c997a26fa908d3/s3transfer-0.3.3-py2.py3-none-any.whl (69kB)\n",
            "\u001b[K     |████████████████████████████████| 71kB 5.4MB/s \n",
            "\u001b[?25hRequirement already satisfied: six in /usr/local/lib/python3.6/dist-packages (from sacremoses->transformers==2.5.1) (1.15.0)\n",
            "Requirement already satisfied: click in /usr/local/lib/python3.6/dist-packages (from sacremoses->transformers==2.5.1) (7.1.2)\n",
            "Requirement already satisfied: joblib in /usr/local/lib/python3.6/dist-packages (from sacremoses->transformers==2.5.1) (1.0.0)\n",
            "Requirement already satisfied: chardet<4,>=3.0.2 in /usr/local/lib/python3.6/dist-packages (from requests->transformers==2.5.1) (3.0.4)\n",
            "Requirement already satisfied: idna<3,>=2.5 in /usr/local/lib/python3.6/dist-packages (from requests->transformers==2.5.1) (2.10)\n",
            "Requirement already satisfied: certifi>=2017.4.17 in /usr/local/lib/python3.6/dist-packages (from requests->transformers==2.5.1) (2020.12.5)\n",
            "Requirement already satisfied: urllib3!=1.25.0,!=1.25.1,<1.26,>=1.21.1 in /usr/local/lib/python3.6/dist-packages (from requests->transformers==2.5.1) (1.24.3)\n",
            "Requirement already satisfied: python-dateutil<3.0.0,>=2.1 in /usr/local/lib/python3.6/dist-packages (from botocore<1.20.0,>=1.19.39->boto3->transformers==2.5.1) (2.8.1)\n",
            "Building wheels for collected packages: sacremoses\n",
            "  Building wheel for sacremoses (setup.py) ... \u001b[?25l\u001b[?25hdone\n",
            "  Created wheel for sacremoses: filename=sacremoses-0.0.43-cp36-none-any.whl size=893261 sha256=038fc8684fe177c874a260e9307290b8741368b4917ec58cc483c43e36b3aaaf\n",
            "  Stored in directory: /root/.cache/pip/wheels/29/3c/fd/7ce5c3f0666dab31a50123635e6fb5e19ceb42ce38d4e58f45\n",
            "Successfully built sacremoses\n",
            "\u001b[31mERROR: botocore 1.19.39 has requirement urllib3<1.27,>=1.25.4; python_version != \"3.4\", but you'll have urllib3 1.24.3 which is incompatible.\u001b[0m\n",
            "Installing collected packages: jmespath, botocore, s3transfer, boto3, sacremoses, sentencepiece, tokenizers, transformers\n",
            "Successfully installed boto3-1.16.39 botocore-1.19.39 jmespath-0.10.0 s3transfer-0.3.3 sacremoses-0.0.43 sentencepiece-0.1.94 tokenizers-0.5.2 transformers-2.5.1\n"
          ],
          "name": "stdout"
        }
      ]
    },
    {
      "cell_type": "code",
      "metadata": {
        "id": "x4giRzM7NtHJ",
        "colab": {
          "base_uri": "https://localhost:8080/"
        },
        "outputId": "e6e03302-bf50-4e41-cd8e-8c7960b882bd"
      },
      "source": [
        "import numpy as np\n",
        "import pandas as pd\n",
        "import torch\n",
        "import torch.nn as nn\n",
        "from sklearn.model_selection import train_test_split\n",
        "from sklearn.metrics import classification_report\n",
        "import transformers\n",
        "from transformers import AutoModel, BertTokenizerFast\n",
        "\n",
        "# specify GPU\n",
        "device = torch.device(\"cuda:0\" if torch.cuda.is_available() else \"cpu\")\n",
        "print(device)"
      ],
      "execution_count": 24,
      "outputs": [
        {
          "output_type": "stream",
          "text": [
            "cpu\n"
          ],
          "name": "stdout"
        }
      ]
    },
    {
      "cell_type": "code",
      "metadata": {
        "id": "xByFZ22Y_Snb"
      },
      "source": [
        "df1= pd.read_csv(\"/content/drive/MyDrive/IIITD Data/ML/Intent Detection/para_df.tsv\", sep=\"\\t\")\r\n",
        "df3= pd.read_csv(\"/content/drive/MyDrive/IIITD Data/ML/Intent Detection/atis_intents_train.csv\", names=['intent', 'dialog'])"
      ],
      "execution_count": 25,
      "outputs": []
    },
    {
      "cell_type": "code",
      "metadata": {
        "id": "fka6OPZO_ar_",
        "colab": {
          "base_uri": "https://localhost:8080/",
          "height": 206
        },
        "outputId": "94907082-7478-4753-ff88-3899d17b144c"
      },
      "source": [
        "df1.head()"
      ],
      "execution_count": 26,
      "outputs": [
        {
          "output_type": "execute_result",
          "data": {
            "text/html": [
              "<div>\n",
              "<style scoped>\n",
              "    .dataframe tbody tr th:only-of-type {\n",
              "        vertical-align: middle;\n",
              "    }\n",
              "\n",
              "    .dataframe tbody tr th {\n",
              "        vertical-align: top;\n",
              "    }\n",
              "\n",
              "    .dataframe thead th {\n",
              "        text-align: right;\n",
              "    }\n",
              "</style>\n",
              "<table border=\"1\" class=\"dataframe\">\n",
              "  <thead>\n",
              "    <tr style=\"text-align: right;\">\n",
              "      <th></th>\n",
              "      <th>intent</th>\n",
              "      <th>dialog</th>\n",
              "    </tr>\n",
              "  </thead>\n",
              "  <tbody>\n",
              "    <tr>\n",
              "      <th>0</th>\n",
              "      <td>atis_flight</td>\n",
              "      <td>show delta airlines flights from jfk to miami</td>\n",
              "    </tr>\n",
              "    <tr>\n",
              "      <th>1</th>\n",
              "      <td>atis_airfare</td>\n",
              "      <td>What is the cost of a one day trip from Detroi...</td>\n",
              "    </tr>\n",
              "    <tr>\n",
              "      <th>2</th>\n",
              "      <td>atis_flight</td>\n",
              "      <td>list flights from phoenix arizona to ontario ...</td>\n",
              "    </tr>\n",
              "    <tr>\n",
              "      <th>3</th>\n",
              "      <td>atis_flight</td>\n",
              "      <td>i would like to leave thursday morning from i...</td>\n",
              "    </tr>\n",
              "    <tr>\n",
              "      <th>4</th>\n",
              "      <td>atis_flight</td>\n",
              "      <td>show flights from minneapolis to kansas city</td>\n",
              "    </tr>\n",
              "  </tbody>\n",
              "</table>\n",
              "</div>"
            ],
            "text/plain": [
              "         intent                                             dialog\n",
              "0   atis_flight      show delta airlines flights from jfk to miami\n",
              "1  atis_airfare  What is the cost of a one day trip from Detroi...\n",
              "2   atis_flight   list flights from phoenix arizona to ontario ...\n",
              "3   atis_flight   i would like to leave thursday morning from i...\n",
              "4   atis_flight       show flights from minneapolis to kansas city"
            ]
          },
          "metadata": {
            "tags": []
          },
          "execution_count": 26
        }
      ]
    },
    {
      "cell_type": "code",
      "metadata": {
        "colab": {
          "base_uri": "https://localhost:8080/",
          "height": 206
        },
        "id": "Fe5k0eLfOhX7",
        "outputId": "e691629f-22c5-450f-dad8-a55744f9083a"
      },
      "source": [
        "flag = 0\r\n",
        "df3.head()"
      ],
      "execution_count": 27,
      "outputs": [
        {
          "output_type": "execute_result",
          "data": {
            "text/html": [
              "<div>\n",
              "<style scoped>\n",
              "    .dataframe tbody tr th:only-of-type {\n",
              "        vertical-align: middle;\n",
              "    }\n",
              "\n",
              "    .dataframe tbody tr th {\n",
              "        vertical-align: top;\n",
              "    }\n",
              "\n",
              "    .dataframe thead th {\n",
              "        text-align: right;\n",
              "    }\n",
              "</style>\n",
              "<table border=\"1\" class=\"dataframe\">\n",
              "  <thead>\n",
              "    <tr style=\"text-align: right;\">\n",
              "      <th></th>\n",
              "      <th>intent</th>\n",
              "      <th>dialog</th>\n",
              "    </tr>\n",
              "  </thead>\n",
              "  <tbody>\n",
              "    <tr>\n",
              "      <th>0</th>\n",
              "      <td>atis_flight</td>\n",
              "      <td>i want to fly from boston at 838 am and arriv...</td>\n",
              "    </tr>\n",
              "    <tr>\n",
              "      <th>1</th>\n",
              "      <td>atis_flight</td>\n",
              "      <td>what flights are available from pittsburgh to...</td>\n",
              "    </tr>\n",
              "    <tr>\n",
              "      <th>2</th>\n",
              "      <td>atis_flight_time</td>\n",
              "      <td>what is the arrival time in san francisco for...</td>\n",
              "    </tr>\n",
              "    <tr>\n",
              "      <th>3</th>\n",
              "      <td>atis_airfare</td>\n",
              "      <td>cheapest airfare from tacoma to orlando</td>\n",
              "    </tr>\n",
              "    <tr>\n",
              "      <th>4</th>\n",
              "      <td>atis_airfare</td>\n",
              "      <td>round trip fares from pittsburgh to philadelp...</td>\n",
              "    </tr>\n",
              "  </tbody>\n",
              "</table>\n",
              "</div>"
            ],
            "text/plain": [
              "             intent                                             dialog\n",
              "0       atis_flight   i want to fly from boston at 838 am and arriv...\n",
              "1       atis_flight   what flights are available from pittsburgh to...\n",
              "2  atis_flight_time   what is the arrival time in san francisco for...\n",
              "3      atis_airfare            cheapest airfare from tacoma to orlando\n",
              "4      atis_airfare   round trip fares from pittsburgh to philadelp..."
            ]
          },
          "metadata": {
            "tags": []
          },
          "execution_count": 27
        }
      ]
    },
    {
      "cell_type": "code",
      "metadata": {
        "colab": {
          "base_uri": "https://localhost:8080/",
          "height": 338
        },
        "id": "eX_J26FcOpay",
        "outputId": "fe4e0216-c693-4a1d-a18e-52f9611d497a"
      },
      "source": [
        "# drop rows with very very less number of intents (<=9)\r\n",
        "drop_intents = [\"atis_flight_time\", \"atis_flight_time\", \"atis_quantity\", \"atis_aircraft\"]\r\n",
        "for x in drop_intents:\r\n",
        "    if flag==1:\r\n",
        "        print(\"intents have already been dropped. Proceed ahead\")\r\n",
        "        break\r\n",
        "    drop_dialog = df3[df3['intent']==x].index\r\n",
        "    df3 = df3.drop(drop_dialog)\r\n",
        "    print(f\"{x} intent has been dropped due to its frequency less than 9\")\r\n",
        "flag=1\r\n",
        "df3['intent'].value_counts().plot(kind='barh').invert_yaxis()"
      ],
      "execution_count": 28,
      "outputs": [
        {
          "output_type": "stream",
          "text": [
            "atis_flight_time intent has been dropped due to its frequency less than 9\n",
            "atis_flight_time intent has been dropped due to its frequency less than 9\n",
            "atis_quantity intent has been dropped due to its frequency less than 9\n",
            "atis_aircraft intent has been dropped due to its frequency less than 9\n"
          ],
          "name": "stdout"
        },
        {
          "output_type": "display_data",
          "data": {
            "image/png": "[encoded data removed]",
            "text/plain": [
              "<Figure size 432x288 with 1 Axes>"
            ]
          },
          "metadata": {
            "tags": [],
            "needs_background": "light"
          }
        }
      ]
    },
    {
      "cell_type": "code",
      "metadata": {
        "colab": {
          "base_uri": "https://localhost:8080/",
          "height": 265
        },
        "id": "qlaTR-OJO9Rm",
        "outputId": "d93b131e-6f10-4e6f-bcee-135456a6a6dc"
      },
      "source": [
        "# drop_dialog = df1[df1['intent']=='intent'].index\r\n",
        "# df1 = df1.drop(drop_dialog)\r\n",
        "# df1['intent'].value_counts()\r\n",
        "\r\n",
        "df1['intent'].value_counts().plot(kind='barh').invert_yaxis()"
      ],
      "execution_count": 29,
      "outputs": [
        {
          "output_type": "display_data",
          "data": {
            "image/png": "[encoded data removed]",
            "text/plain": [
              "<Figure size 432x288 with 1 Axes>"
            ]
          },
          "metadata": {
            "tags": [],
            "needs_background": "light"
          }
        }
      ]
    },
    {
      "cell_type": "code",
      "metadata": {
        "colab": {
          "base_uri": "https://localhost:8080/",
          "height": 206
        },
        "id": "5ITS8_9rPJ_j",
        "outputId": "69044db1-b0ee-4536-8fcd-ecd933b46e77"
      },
      "source": [
        "def partition(x):\r\n",
        "    if x == \"atis_flight\": return 0\r\n",
        "    elif x == \"atis_airfare\": return 2\r\n",
        "    elif x == \"atis_airline\": return 3\r\n",
        "    elif x == \"atis_ground_service\": return 4\r\n",
        "    elif x == \"atis_abbreviation\": return 1\r\n",
        "    \r\n",
        "df1['intent'] = df1['intent'].apply(partition)\r\n",
        "df3['intent'] = df3['intent'].apply(partition)\r\n",
        "df1.head()"
      ],
      "execution_count": 30,
      "outputs": [
        {
          "output_type": "execute_result",
          "data": {
            "text/html": [
              "<div>\n",
              "<style scoped>\n",
              "    .dataframe tbody tr th:only-of-type {\n",
              "        vertical-align: middle;\n",
              "    }\n",
              "\n",
              "    .dataframe tbody tr th {\n",
              "        vertical-align: top;\n",
              "    }\n",
              "\n",
              "    .dataframe thead th {\n",
              "        text-align: right;\n",
              "    }\n",
              "</style>\n",
              "<table border=\"1\" class=\"dataframe\">\n",
              "  <thead>\n",
              "    <tr style=\"text-align: right;\">\n",
              "      <th></th>\n",
              "      <th>intent</th>\n",
              "      <th>dialog</th>\n",
              "    </tr>\n",
              "  </thead>\n",
              "  <tbody>\n",
              "    <tr>\n",
              "      <th>0</th>\n",
              "      <td>0</td>\n",
              "      <td>show delta airlines flights from jfk to miami</td>\n",
              "    </tr>\n",
              "    <tr>\n",
              "      <th>1</th>\n",
              "      <td>2</td>\n",
              "      <td>What is the cost of a one day trip from Detroi...</td>\n",
              "    </tr>\n",
              "    <tr>\n",
              "      <th>2</th>\n",
              "      <td>0</td>\n",
              "      <td>list flights from phoenix arizona to ontario ...</td>\n",
              "    </tr>\n",
              "    <tr>\n",
              "      <th>3</th>\n",
              "      <td>0</td>\n",
              "      <td>i would like to leave thursday morning from i...</td>\n",
              "    </tr>\n",
              "    <tr>\n",
              "      <th>4</th>\n",
              "      <td>0</td>\n",
              "      <td>show flights from minneapolis to kansas city</td>\n",
              "    </tr>\n",
              "  </tbody>\n",
              "</table>\n",
              "</div>"
            ],
            "text/plain": [
              "   intent                                             dialog\n",
              "0       0      show delta airlines flights from jfk to miami\n",
              "1       2  What is the cost of a one day trip from Detroi...\n",
              "2       0   list flights from phoenix arizona to ontario ...\n",
              "3       0   i would like to leave thursday morning from i...\n",
              "4       0       show flights from minneapolis to kansas city"
            ]
          },
          "metadata": {
            "tags": []
          },
          "execution_count": 30
        }
      ]
    },
    {
      "cell_type": "markdown",
      "metadata": {
        "id": "kKd-Tj3hOMsZ"
      },
      "source": [
        "# Load Dataset"
      ]
    },
    {
      "cell_type": "code",
      "metadata": {
        "id": "548-Hcfw1z2I"
      },
      "source": [
        "df = df1"
      ],
      "execution_count": 31,
      "outputs": []
    },
    {
      "cell_type": "code",
      "metadata": {
        "id": "fzPPOrVQWiW5",
        "colab": {
          "base_uri": "https://localhost:8080/"
        },
        "outputId": "e758e47b-9eda-482d-f169-ec0a226958d7"
      },
      "source": [
        "df.shape"
      ],
      "execution_count": 32,
      "outputs": [
        {
          "output_type": "execute_result",
          "data": {
            "text/plain": [
              "(1252, 2)"
            ]
          },
          "metadata": {
            "tags": []
          },
          "execution_count": 32
        }
      ]
    },
    {
      "cell_type": "code",
      "metadata": {
        "id": "676DPU1BOPdp",
        "colab": {
          "base_uri": "https://localhost:8080/"
        },
        "outputId": "2b2965ab-83c6-4066-d6fd-97b4823d90d9"
      },
      "source": [
        "# check class distribution\n",
        "df['intent'].value_counts(normalize = True)"
      ],
      "execution_count": 33,
      "outputs": [
        {
          "output_type": "execute_result",
          "data": {
            "text/plain": [
              "0    0.504792\n",
              "2    0.153355\n",
              "3    0.121406\n",
              "4    0.115016\n",
              "1    0.105431\n",
              "Name: intent, dtype: float64"
            ]
          },
          "metadata": {
            "tags": []
          },
          "execution_count": 33
        }
      ]
    },
    {
      "cell_type": "code",
      "metadata": {
        "colab": {
          "base_uri": "https://localhost:8080/"
        },
        "id": "qCrFtlDwXUo8",
        "outputId": "5f2979ec-1796-4eba-d716-4efdab9d10a1"
      },
      "source": [
        "df3['intent'].value_counts(normalize = True)"
      ],
      "execution_count": 34,
      "outputs": [
        {
          "output_type": "execute_result",
          "data": {
            "text/plain": [
              "0    0.788726\n",
              "2    0.091007\n",
              "4    0.054862\n",
              "3    0.033778\n",
              "1    0.031627\n",
              "Name: intent, dtype: float64"
            ]
          },
          "metadata": {
            "tags": []
          },
          "execution_count": 34
        }
      ]
    },
    {
      "cell_type": "markdown",
      "metadata": {
        "id": "MKfWnApvOoE7"
      },
      "source": [
        "# Split train dataset into train, validation and test sets"
      ]
    },
    {
      "cell_type": "code",
      "metadata": {
        "id": "zzJ24K2FdkKr"
      },
      "source": [
        "train_text, train_labels= df1['dialog'], df1['intent']\r\n",
        "val_text, val_labels= df3['dialog'], df3['intent']"
      ],
      "execution_count": 35,
      "outputs": []
    },
    {
      "cell_type": "markdown",
      "metadata": {
        "id": "n7hsdLoCO7uB"
      },
      "source": [
        "# Import BERT Model and BERT Tokenizer"
      ]
    },
    {
      "cell_type": "code",
      "metadata": {
        "id": "S1kY3gZjO2RE"
      },
      "source": [
        "# import BERT-base pretrained model\n",
        "bert = AutoModel.from_pretrained('bert-base-uncased')\n",
        "\n",
        "# Load the BERT tokenizer\n",
        "tokenizer = BertTokenizerFast.from_pretrained('bert-base-uncased')"
      ],
      "execution_count": 36,
      "outputs": []
    },
    {
      "cell_type": "code",
      "metadata": {
        "id": "_zOKeOMeO-DT"
      },
      "source": [
        "# sample data\n",
        "text = [\"this is a bert model tutorial\", \"we will fine-tune a bert model\"]\n",
        "\n",
        "# encode text\n",
        "sent_id = tokenizer.batch_encode_plus(text, padding=True, return_token_type_ids=False)"
      ],
      "execution_count": 37,
      "outputs": []
    },
    {
      "cell_type": "code",
      "metadata": {
        "id": "RISRyirTvdL5"
      },
      "source": [
        ""
      ],
      "execution_count": 37,
      "outputs": []
    },
    {
      "cell_type": "code",
      "metadata": {
        "id": "oAH73n39PHLw"
      },
      "source": [
        ""
      ],
      "execution_count": 37,
      "outputs": []
    },
    {
      "cell_type": "code",
      "metadata": {
        "id": "MAmGCYervwID"
      },
      "source": [
        ""
      ],
      "execution_count": 37,
      "outputs": []
    },
    {
      "cell_type": "markdown",
      "metadata": {
        "id": "8wIYaWI_Prg8"
      },
      "source": [
        "# Tokenization"
      ]
    },
    {
      "cell_type": "code",
      "metadata": {
        "id": "yKwbpeN_PMiu",
        "colab": {
          "base_uri": "https://localhost:8080/",
          "height": 283
        },
        "outputId": "4efe5a3b-43f6-4573-edb9-029938159876"
      },
      "source": [
        "# get length of all the messages in the train set\n",
        "seq_len = [len(i.split()) for i in train_text]\n",
        "\n",
        "pd.Series(seq_len).hist(bins = 30)"
      ],
      "execution_count": 38,
      "outputs": [
        {
          "output_type": "execute_result",
          "data": {
            "text/plain": [
              "<matplotlib.axes._subplots.AxesSubplot at 0x7f7e49d77780>"
            ]
          },
          "metadata": {
            "tags": []
          },
          "execution_count": 38
        },
        {
          "output_type": "display_data",
          "data": {
            "image/png": "[encoded data removed]",
            "text/plain": [
              "<Figure size 432x288 with 1 Axes>"
            ]
          },
          "metadata": {
            "tags": [],
            "needs_background": "light"
          }
        }
      ]
    },
    {
      "cell_type": "code",
      "metadata": {
        "id": "HD1OMH7T27Wf",
        "colab": {
          "base_uri": "https://localhost:8080/"
        },
        "outputId": "5b5dba41-84e2-4906-ed00-5bbb7bcc4ff4"
      },
      "source": [
        "np.array(seq_len).mean()"
      ],
      "execution_count": 39,
      "outputs": [
        {
          "output_type": "execute_result",
          "data": {
            "text/plain": [
              "10.585463258785943"
            ]
          },
          "metadata": {
            "tags": []
          },
          "execution_count": 39
        }
      ]
    },
    {
      "cell_type": "code",
      "metadata": {
        "id": "OXcswEIRPvGe"
      },
      "source": [
        "max_seq_len = 11"
      ],
      "execution_count": 40,
      "outputs": []
    },
    {
      "cell_type": "code",
      "metadata": {
        "id": "tk5S7DWaP2t6"
      },
      "source": [
        "# tokenize and encode sequences in the training set\n",
        "tokens_train = tokenizer.batch_encode_plus(\n",
        "    train_text.tolist(),\n",
        "    max_length = max_seq_len,\n",
        "    pad_to_max_length=True,\n",
        "    truncation=True,\n",
        "    return_token_type_ids=False\n",
        ")\n",
        "\n",
        "# tokenize and encode sequences in the validation set\n",
        "tokens_val = tokenizer.batch_encode_plus(\n",
        "    val_text.tolist(),\n",
        "    max_length = max_seq_len,\n",
        "    pad_to_max_length=True,\n",
        "    truncation=True,\n",
        "    return_token_type_ids=False\n",
        ")\n",
        "\n",
        "# # tokenize and encode sequences in the test set\n",
        "# tokens_test = tokenizer.batch_encode_plus(\n",
        "#     test_text.tolist(),\n",
        "#     max_length = max_seq_len,\n",
        "#     pad_to_max_length=True,\n",
        "#     truncation=True,\n",
        "#     return_token_type_ids=False\n",
        "# )"
      ],
      "execution_count": 41,
      "outputs": []
    },
    {
      "cell_type": "markdown",
      "metadata": {
        "id": "Wsm8bkRZQTw9"
      },
      "source": [
        "# Convert Integer Sequences to Tensors"
      ]
    },
    {
      "cell_type": "code",
      "metadata": {
        "id": "W07zdY7Ye0pP"
      },
      "source": [
        ""
      ],
      "execution_count": 41,
      "outputs": []
    },
    {
      "cell_type": "code",
      "metadata": {
        "id": "QR-lXwmzQPd6"
      },
      "source": [
        "# for train set\n",
        "train_seq = torch.tensor(tokens_train['input_ids'])\n",
        "train_mask = torch.tensor(tokens_train['attention_mask'])\n",
        "train_y = torch.tensor(train_labels.tolist())\n",
        "\n",
        "# for validation set\n",
        "val_seq = torch.tensor(tokens_val['input_ids'])\n",
        "val_mask = torch.tensor(tokens_val['attention_mask'])\n",
        "val_y = torch.tensor(val_labels.tolist())\n",
        "\n",
        "# for test set\n",
        "# test_seq = torch.tensor(tokens_test['input_ids'])\n",
        "# test_mask = torch.tensor(tokens_test['attention_mask'])\n",
        "# test_y = torch.tensor(test_labels.tolist())"
      ],
      "execution_count": 42,
      "outputs": []
    },
    {
      "cell_type": "code",
      "metadata": {
        "id": "K5NJry1M7lod"
      },
      "source": [
        ""
      ],
      "execution_count": 42,
      "outputs": []
    },
    {
      "cell_type": "markdown",
      "metadata": {
        "id": "Ov1cOBlcRLuk"
      },
      "source": [
        "# Create DataLoaders"
      ]
    },
    {
      "cell_type": "code",
      "metadata": {
        "id": "qUy9JKFYQYLp"
      },
      "source": [
        "from torch.utils.data import TensorDataset, DataLoader, RandomSampler, SequentialSampler\n",
        "\n",
        "#define a batch size\n",
        "batch_size = 32\n",
        "\n",
        "# wrap tensors\n",
        "train_data = TensorDataset(train_seq, train_mask, train_y)\n",
        "\n",
        "# sampler for sampling the data during training\n",
        "train_sampler = RandomSampler(train_data)\n",
        "\n",
        "# dataLoader for train set\n",
        "train_dataloader = DataLoader(train_data, sampler=train_sampler, batch_size=batch_size)\n",
        "\n",
        "# wrap tensors\n",
        "val_data = TensorDataset(val_seq, val_mask, val_y)\n",
        "\n",
        "# sampler for sampling the data during training\n",
        "val_sampler = SequentialSampler(val_data)\n",
        "\n",
        "# dataLoader for validation set\n",
        "val_dataloader = DataLoader(val_data, sampler = val_sampler, batch_size=batch_size)"
      ],
      "execution_count": 43,
      "outputs": []
    },
    {
      "cell_type": "markdown",
      "metadata": {
        "id": "K2HZc5ZYRV28"
      },
      "source": [
        "# Freeze BERT Parameters"
      ]
    },
    {
      "cell_type": "code",
      "metadata": {
        "id": "wHZ0MC00RQA_"
      },
      "source": [
        "# freeze all the parameters\n",
        "for param in bert.parameters():\n",
        "    param.requires_grad = False"
      ],
      "execution_count": 44,
      "outputs": []
    },
    {
      "cell_type": "code",
      "metadata": {
        "id": "ipqP5-7tg6hA"
      },
      "source": [
        ""
      ],
      "execution_count": 44,
      "outputs": []
    },
    {
      "cell_type": "markdown",
      "metadata": {
        "id": "s7ahGBUWRi3X"
      },
      "source": [
        "# Define Model Architecture"
      ]
    },
    {
      "cell_type": "code",
      "metadata": {
        "id": "b3iEtGyYRd0A"
      },
      "source": [
        "class BERT_Arch(nn.Module):\n",
        "    def __init__(self, bert):\n",
        "      super(BERT_Arch, self).__init__()\n",
        "\n",
        "      self.bert = bert \n",
        "      \n",
        "      # dropout layer\n",
        "      self.dropout = nn.Dropout(0.1)\n",
        "      \n",
        "      # relu activation function\n",
        "      self.relu =  nn.ReLU()\n",
        "\n",
        "      # dense layer 1\n",
        "      self.fc1 = nn.Linear(768,512)\n",
        "      \n",
        "      # dense layer 2 (Output layer)\n",
        "      self.fc2 = nn.Linear(512,5)\n",
        "\n",
        "      #softmax activation function\n",
        "      self.softmax = nn.LogSoftmax(dim=1)\n",
        "\n",
        "    #define the forward pass\n",
        "    def forward(self, sent_id, mask):\n",
        "      #pass the inputs to the model  \n",
        "      _, cls_hs = self.bert(sent_id, attention_mask=mask)\n",
        "      \n",
        "    #   print(sent_id, mask)\n",
        "    #   print(type(cls_hs))\n",
        "      \n",
        "      x = self.fc1(cls_hs)\n",
        "\n",
        "      x = self.relu(x)\n",
        "\n",
        "      x = self.dropout(x)\n",
        "\n",
        "      # output layer\n",
        "      x = self.fc2(x)\n",
        "      \n",
        "      # apply softmax activation\n",
        "      x = self.softmax(x)\n",
        "\n",
        "      return x"
      ],
      "execution_count": 45,
      "outputs": []
    },
    {
      "cell_type": "code",
      "metadata": {
        "id": "Q632cB9-sWCv"
      },
      "source": [
        ""
      ],
      "execution_count": 45,
      "outputs": []
    },
    {
      "cell_type": "code",
      "metadata": {
        "id": "cBAJJVuJRliv"
      },
      "source": [
        "# pass the pre-trained BERT to our define architecture\n",
        "model = BERT_Arch(bert)\n",
        "\n",
        "# push the model to GPU\n",
        "model = model.to(device)"
      ],
      "execution_count": 46,
      "outputs": []
    },
    {
      "cell_type": "code",
      "metadata": {
        "id": "taXS0IilRn9J"
      },
      "source": [
        "# optimizer from hugging face transformers\n",
        "from transformers import AdamW\n",
        "\n",
        "# define the optimizer\n",
        "optimizer = AdamW(model.parameters(), lr = 1e-3)"
      ],
      "execution_count": 47,
      "outputs": []
    },
    {
      "cell_type": "markdown",
      "metadata": {
        "id": "j9CDpoMQR_rK"
      },
      "source": [
        "# Find Class Weights"
      ]
    },
    {
      "cell_type": "code",
      "metadata": {
        "id": "izY5xH5eR7Ur",
        "colab": {
          "base_uri": "https://localhost:8080/"
        },
        "outputId": "e8fefc71-7b0a-40d7-df02-bd500658cc12"
      },
      "source": [
        "from sklearn.utils.class_weight import compute_class_weight\n",
        "\n",
        "#compute the class weights\n",
        "class_wts = compute_class_weight('balanced', np.unique(train_labels), train_labels)\n",
        "\n",
        "print(class_wts)"
      ],
      "execution_count": 48,
      "outputs": [
        {
          "output_type": "stream",
          "text": [
            "[0.39620253 1.8969697  1.30416667 1.64736842 1.73888889]\n"
          ],
          "name": "stdout"
        }
      ]
    },
    {
      "cell_type": "code",
      "metadata": {
        "id": "r1WvfY2vSGKi"
      },
      "source": [
        "# convert class weights to tensor\n",
        "weights= torch.tensor(class_wts,dtype=torch.float)\n",
        "weights = weights.to(device)\n",
        "\n",
        "# loss function\n",
        "cross_entropy  = nn.NLLLoss(weight=weights) \n",
        "\n",
        "# number of training epochs\n",
        "epochs = 30"
      ],
      "execution_count": 49,
      "outputs": []
    },
    {
      "cell_type": "markdown",
      "metadata": {
        "id": "My4CA0qaShLq"
      },
      "source": [
        "# Fine-Tune BERT"
      ]
    },
    {
      "cell_type": "code",
      "metadata": {
        "id": "rskLk8R_SahS"
      },
      "source": [
        "# function to train the model\n",
        "def train():\n",
        "  model.train()\n",
        "\n",
        "  total_loss, total_accuracy = 0, 0\n",
        "  \n",
        "  # empty list to save model predictions\n",
        "  total_preds=[]\n",
        "  \n",
        "  # iterate over batches\n",
        "  for step,batch in enumerate(train_dataloader):\n",
        "    \n",
        "    # progress update after every 50 batches.\n",
        "    if step % 50 == 0 and not step == 0:\n",
        "      print('  Batch {:>5,}  of  {:>5,}.'.format(step, len(train_dataloader)))\n",
        "\n",
        "    # push the batch to gpu\n",
        "    batch = [r.to(device) for r in batch]\n",
        " \n",
        "    sent_id, mask, labels = batch\n",
        "\n",
        "    # clear previously calculated gradients \n",
        "    model.zero_grad()        \n",
        "\n",
        "    # get model predictions for the current batch\n",
        "    preds = model(sent_id, mask)\n",
        "\n",
        "    # compute the loss between actual and predicted values\n",
        "    loss = cross_entropy(preds, labels)\n",
        "\n",
        "    # add on to the total loss\n",
        "    total_loss = total_loss + loss.item()\n",
        "\n",
        "    # backward pass to calculate the gradients\n",
        "    loss.backward() # dl/dw\n",
        "\n",
        "    # clip the the gradients to 1.0. It helps in preventing the exploding gradient problem\n",
        "    torch.nn.utils.clip_grad_norm_(model.parameters(), 1.0)\n",
        "\n",
        "    # update parameters\n",
        "    optimizer.step() #  w = w_prev - n (dw/dl)\n",
        "\n",
        "    # model predictions are stored on GPU. So, push it to CPU\n",
        "    preds=preds.detach().cpu().numpy()\n",
        "\n",
        "    # append the model predictions\n",
        "    total_preds.append(preds)\n",
        "\n",
        "  # compute the training loss of the epoch\n",
        "  avg_loss = total_loss / len(train_dataloader)\n",
        "  \n",
        "  # predictions are in the form of (no. of batches, size of batch, no. of classes).\n",
        "  # reshape the predictions in form of (number of samples, no. of classes)\n",
        "  total_preds  = np.concatenate(total_preds, axis=0)\n",
        "\n",
        "  #returns the loss and predictions\n",
        "  return avg_loss, total_preds"
      ],
      "execution_count": 50,
      "outputs": []
    },
    {
      "cell_type": "code",
      "metadata": {
        "id": "yGXovFDlSxB5"
      },
      "source": [
        "# function for evaluating the model\n",
        "def evaluate():\n",
        "  print(\"\\nEvaluating...\")\n",
        "  # deactivate dropout layers\n",
        "  model.eval()\n",
        "\n",
        "  total_loss, total_accuracy = 0, 0\n",
        "  \n",
        "  # empty list to save the model predictions\n",
        "  total_preds = []\n",
        "\n",
        "  # iterate over batches\n",
        "  for step,batch in enumerate(val_dataloader):\n",
        "    \n",
        "    # Progress update every 50 batches.\n",
        "    if step % 50 == 0 and not step == 0:\n",
        "      \n",
        "      # Calculate elapsed time in minutes.\n",
        "    #   elapsed = format_time(time.time() - t0)\n",
        "            \n",
        "      # Report progress.\n",
        "      print('  Batch {:>5,}  of  {:>5,}.'.format(step, len(val_dataloader)))\n",
        "\n",
        "    # push the batch to gpu\n",
        "    batch = [t.to(device) for t in batch]\n",
        "\n",
        "    sent_id, mask, labels = batch\n",
        "\n",
        "    # deactivate autograd\n",
        "    with torch.no_grad():\n",
        "      # model predictions\n",
        "      preds = model(sent_id, mask)\n",
        "      # compute the validation loss between actual and predicted values\n",
        "      loss = cross_entropy(preds,labels)\n",
        "      total_loss = total_loss + loss.item()\n",
        "      preds = preds.detach().cpu().numpy()\n",
        "      total_preds.append(preds)\n",
        "\n",
        "  # compute the validation loss of the epoch\n",
        "  avg_loss = total_loss / len(val_dataloader) \n",
        "\n",
        "  # reshape the predictions in form of (number of samples, no. of classes)\n",
        "  total_preds  = np.concatenate(total_preds, axis=0)\n",
        "  return avg_loss, total_preds"
      ],
      "execution_count": 51,
      "outputs": []
    },
    {
      "cell_type": "markdown",
      "metadata": {
        "id": "9KZEgxRRTLXG"
      },
      "source": [
        "# Start Model Training"
      ]
    },
    {
      "cell_type": "code",
      "metadata": {
        "id": "k1USGTntS3TS",
        "colab": {
          "base_uri": "https://localhost:8080/"
        },
        "outputId": "59405ea9-853f-4377-8aba-156ad0a63dcb"
      },
      "source": [
        "# set initial loss to infinite\n",
        "best_valid_loss = float('inf')\n",
        "\n",
        "# empty lists to store training and validation loss of each epoch\n",
        "train_losses=[]\n",
        "valid_losses=[]\n",
        "\n",
        "#for each epoch\n",
        "for epoch in range(epochs):\n",
        "     \n",
        "    print('\\n Epoch {:} / {:}'.format(epoch + 1, epochs))\n",
        "    \n",
        "    #train model\n",
        "    train_loss, _ = train()\n",
        "    \n",
        "    #evaluate model\n",
        "    valid_loss, _ = evaluate()\n",
        "    \n",
        "    #save the best model\n",
        "    if valid_loss < best_valid_loss:\n",
        "        best_valid_loss = valid_loss\n",
        "        torch.save(model.state_dict(), 'saved_weights.pt')\n",
        "    \n",
        "    # append training and validation loss\n",
        "    train_losses.append(train_loss)\n",
        "    valid_losses.append(valid_loss)\n",
        "    \n",
        "    print(f'\\nTraining Loss: {train_loss:.3f}')\n",
        "    print(f'Validation Loss: {valid_loss:.3f}')"
      ],
      "execution_count": 52,
      "outputs": [
        {
          "output_type": "stream",
          "text": [
            "\n",
            " Epoch 1 / 30\n"
          ],
          "name": "stdout"
        },
        {
          "output_type": "stream",
          "text": [
            "/usr/local/lib/python3.6/dist-packages/transformers/optimization.py:155: UserWarning: This overload of add_ is deprecated:\n",
            "\tadd_(Number alpha, Tensor other)\n",
            "Consider using one of the following signatures instead:\n",
            "\tadd_(Tensor other, *, Number alpha) (Triggered internally at  /pytorch/torch/csrc/utils/python_arg_parser.cpp:882.)\n",
            "  exp_avg.mul_(beta1).add_(1.0 - beta1, grad)\n"
          ],
          "name": "stderr"
        },
        {
          "output_type": "stream",
          "text": [
            "\n",
            "Evaluating...\n",
            "  Batch    50  of    146.\n",
            "  Batch   100  of    146.\n",
            "\n",
            "Training Loss: 1.554\n",
            "Validation Loss: 1.720\n",
            "\n",
            " Epoch 2 / 30\n",
            "\n",
            "Evaluating...\n",
            "  Batch    50  of    146.\n",
            "  Batch   100  of    146.\n",
            "\n",
            "Training Loss: 1.285\n",
            "Validation Loss: 1.291\n",
            "\n",
            " Epoch 3 / 30\n",
            "\n",
            "Evaluating...\n",
            "  Batch    50  of    146.\n",
            "  Batch   100  of    146.\n",
            "\n",
            "Training Loss: 1.222\n",
            "Validation Loss: 1.081\n",
            "\n",
            " Epoch 4 / 30\n",
            "\n",
            "Evaluating...\n",
            "  Batch    50  of    146.\n",
            "  Batch   100  of    146.\n",
            "\n",
            "Training Loss: 1.127\n",
            "Validation Loss: 1.066\n",
            "\n",
            " Epoch 5 / 30\n",
            "\n",
            "Evaluating...\n",
            "  Batch    50  of    146.\n",
            "  Batch   100  of    146.\n",
            "\n",
            "Training Loss: 1.061\n",
            "Validation Loss: 1.073\n",
            "\n",
            " Epoch 6 / 30\n",
            "\n",
            "Evaluating...\n",
            "  Batch    50  of    146.\n",
            "  Batch   100  of    146.\n",
            "\n",
            "Training Loss: 1.009\n",
            "Validation Loss: 1.096\n",
            "\n",
            " Epoch 7 / 30\n",
            "\n",
            "Evaluating...\n",
            "  Batch    50  of    146.\n",
            "  Batch   100  of    146.\n",
            "\n",
            "Training Loss: 0.918\n",
            "Validation Loss: 0.931\n",
            "\n",
            " Epoch 8 / 30\n",
            "\n",
            "Evaluating...\n",
            "  Batch    50  of    146.\n",
            "  Batch   100  of    146.\n",
            "\n",
            "Training Loss: 0.869\n",
            "Validation Loss: 0.845\n",
            "\n",
            " Epoch 9 / 30\n",
            "\n",
            "Evaluating...\n",
            "  Batch    50  of    146.\n",
            "  Batch   100  of    146.\n",
            "\n",
            "Training Loss: 0.837\n",
            "Validation Loss: 0.795\n",
            "\n",
            " Epoch 10 / 30\n",
            "\n",
            "Evaluating...\n",
            "  Batch    50  of    146.\n",
            "  Batch   100  of    146.\n",
            "\n",
            "Training Loss: 0.850\n",
            "Validation Loss: 0.839\n",
            "\n",
            " Epoch 11 / 30\n",
            "\n",
            "Evaluating...\n",
            "  Batch    50  of    146.\n",
            "  Batch   100  of    146.\n",
            "\n",
            "Training Loss: 0.772\n",
            "Validation Loss: 0.773\n",
            "\n",
            " Epoch 12 / 30\n",
            "\n",
            "Evaluating...\n",
            "  Batch    50  of    146.\n",
            "  Batch   100  of    146.\n",
            "\n",
            "Training Loss: 0.755\n",
            "Validation Loss: 0.743\n",
            "\n",
            " Epoch 13 / 30\n",
            "\n",
            "Evaluating...\n",
            "  Batch    50  of    146.\n",
            "  Batch   100  of    146.\n",
            "\n",
            "Training Loss: 0.709\n",
            "Validation Loss: 0.760\n",
            "\n",
            " Epoch 14 / 30\n",
            "\n",
            "Evaluating...\n",
            "  Batch    50  of    146.\n",
            "  Batch   100  of    146.\n",
            "\n",
            "Training Loss: 0.682\n",
            "Validation Loss: 0.794\n",
            "\n",
            " Epoch 15 / 30\n",
            "\n",
            "Evaluating...\n",
            "  Batch    50  of    146.\n",
            "  Batch   100  of    146.\n",
            "\n",
            "Training Loss: 0.692\n",
            "Validation Loss: 0.646\n",
            "\n",
            " Epoch 16 / 30\n",
            "\n",
            "Evaluating...\n",
            "  Batch    50  of    146.\n",
            "  Batch   100  of    146.\n",
            "\n",
            "Training Loss: 0.682\n",
            "Validation Loss: 1.238\n",
            "\n",
            " Epoch 17 / 30\n",
            "\n",
            "Evaluating...\n",
            "  Batch    50  of    146.\n",
            "  Batch   100  of    146.\n",
            "\n",
            "Training Loss: 0.618\n",
            "Validation Loss: 0.832\n",
            "\n",
            " Epoch 18 / 30\n",
            "\n",
            "Evaluating...\n",
            "  Batch    50  of    146.\n",
            "  Batch   100  of    146.\n",
            "\n",
            "Training Loss: 0.610\n",
            "Validation Loss: 0.681\n",
            "\n",
            " Epoch 19 / 30\n",
            "\n",
            "Evaluating...\n",
            "  Batch    50  of    146.\n",
            "  Batch   100  of    146.\n",
            "\n",
            "Training Loss: 0.554\n",
            "Validation Loss: 0.903\n",
            "\n",
            " Epoch 20 / 30\n",
            "\n",
            "Evaluating...\n",
            "  Batch    50  of    146.\n",
            "  Batch   100  of    146.\n",
            "\n",
            "Training Loss: 0.576\n",
            "Validation Loss: 0.870\n",
            "\n",
            " Epoch 21 / 30\n",
            "\n",
            "Evaluating...\n",
            "  Batch    50  of    146.\n",
            "  Batch   100  of    146.\n",
            "\n",
            "Training Loss: 0.575\n",
            "Validation Loss: 0.654\n",
            "\n",
            " Epoch 22 / 30\n",
            "\n",
            "Evaluating...\n",
            "  Batch    50  of    146.\n",
            "  Batch   100  of    146.\n",
            "\n",
            "Training Loss: 0.565\n",
            "Validation Loss: 0.823\n",
            "\n",
            " Epoch 23 / 30\n",
            "\n",
            "Evaluating...\n",
            "  Batch    50  of    146.\n",
            "  Batch   100  of    146.\n",
            "\n",
            "Training Loss: 0.564\n",
            "Validation Loss: 0.876\n",
            "\n",
            " Epoch 24 / 30\n",
            "\n",
            "Evaluating...\n",
            "  Batch    50  of    146.\n",
            "  Batch   100  of    146.\n",
            "\n",
            "Training Loss: 0.597\n",
            "Validation Loss: 0.716\n",
            "\n",
            " Epoch 25 / 30\n",
            "\n",
            "Evaluating...\n",
            "  Batch    50  of    146.\n",
            "  Batch   100  of    146.\n",
            "\n",
            "Training Loss: 0.553\n",
            "Validation Loss: 0.683\n",
            "\n",
            " Epoch 26 / 30\n",
            "\n",
            "Evaluating...\n",
            "  Batch    50  of    146.\n",
            "  Batch   100  of    146.\n",
            "\n",
            "Training Loss: 0.615\n",
            "Validation Loss: 0.640\n",
            "\n",
            " Epoch 27 / 30\n",
            "\n",
            "Evaluating...\n",
            "  Batch    50  of    146.\n",
            "  Batch   100  of    146.\n",
            "\n",
            "Training Loss: 0.510\n",
            "Validation Loss: 0.665\n",
            "\n",
            " Epoch 28 / 30\n",
            "\n",
            "Evaluating...\n",
            "  Batch    50  of    146.\n",
            "  Batch   100  of    146.\n",
            "\n",
            "Training Loss: 0.555\n",
            "Validation Loss: 0.601\n",
            "\n",
            " Epoch 29 / 30\n",
            "\n",
            "Evaluating...\n",
            "  Batch    50  of    146.\n",
            "  Batch   100  of    146.\n",
            "\n",
            "Training Loss: 0.476\n",
            "Validation Loss: 0.554\n",
            "\n",
            " Epoch 30 / 30\n",
            "\n",
            "Evaluating...\n",
            "  Batch    50  of    146.\n",
            "  Batch   100  of    146.\n",
            "\n",
            "Training Loss: 0.509\n",
            "Validation Loss: 0.572\n"
          ],
          "name": "stdout"
        }
      ]
    },
    {
      "cell_type": "markdown",
      "metadata": {
        "id": "_yrhUc9kTI5a"
      },
      "source": [
        "# Load Saved Model"
      ]
    },
    {
      "cell_type": "code",
      "metadata": {
        "id": "OacxUyizS8d1",
        "colab": {
          "base_uri": "https://localhost:8080/"
        },
        "outputId": "306f9710-a8cd-4e63-a7aa-0cd1a9d28f73"
      },
      "source": [
        "#load weights of best model\n",
        "path = 'saved_weights.pt'\n",
        "model.load_state_dict(torch.load(path))"
      ],
      "execution_count": 53,
      "outputs": [
        {
          "output_type": "execute_result",
          "data": {
            "text/plain": [
              "<All keys matched successfully>"
            ]
          },
          "metadata": {
            "tags": []
          },
          "execution_count": 53
        }
      ]
    },
    {
      "cell_type": "markdown",
      "metadata": {
        "id": "x4SVftkkTZXA"
      },
      "source": [
        "# Get Predictions for Test Data"
      ]
    },
    {
      "cell_type": "code",
      "metadata": {
        "id": "NZl0SZmFTRQA"
      },
      "source": [
        "# get predictions for test data\n",
        "with torch.no_grad():\n",
        "  preds = model(val_seq.to(device), val_mask.to(device))\n",
        "  preds = preds.detach().cpu().numpy()"
      ],
      "execution_count": 54,
      "outputs": []
    },
    {
      "cell_type": "code",
      "metadata": {
        "id": "Ms1ObHZxTYSI",
        "colab": {
          "base_uri": "https://localhost:8080/"
        },
        "outputId": "b083dc05-3ab2-4ee1-8c60-70c253736f32"
      },
      "source": [
        "# model's performance\n",
        "preds = np.argmax(preds, axis = 1)\n",
        "print(classification_report(val_y, preds))"
      ],
      "execution_count": 55,
      "outputs": [
        {
          "output_type": "stream",
          "text": [
            "              precision    recall  f1-score   support\n",
            "\n",
            "           0       0.94      0.91      0.93      3666\n",
            "           1       0.97      0.83      0.89       147\n",
            "           2       0.53      0.82      0.65       423\n",
            "           3       0.54      0.46      0.50       157\n",
            "           4       0.83      0.67      0.74       255\n",
            "\n",
            "    accuracy                           0.87      4648\n",
            "   macro avg       0.76      0.74      0.74      4648\n",
            "weighted avg       0.89      0.87      0.87      4648\n",
            "\n"
          ],
          "name": "stdout"
        }
      ]
    },
    {
      "cell_type": "code",
      "metadata": {
        "id": "XT0EVisapLOb"
      },
      "source": [
        "# get predictions for train data\r\n",
        "with torch.no_grad():\r\n",
        "  preds = model(train_seq.to(device), train_mask.to(device))\r\n",
        "  preds = preds.detach().cpu().numpy()"
      ],
      "execution_count": 56,
      "outputs": []
    },
    {
      "cell_type": "code",
      "metadata": {
        "colab": {
          "base_uri": "https://localhost:8080/"
        },
        "id": "9l8NSnEZpRf5",
        "outputId": "bc7a4805-6e82-4d74-c9f1-ba4c230e2722"
      },
      "source": [
        "# model's performance\r\n",
        "preds = np.argmax(preds, axis = 1)\r\n",
        "print(classification_report(train_y, preds))"
      ],
      "execution_count": 57,
      "outputs": [
        {
          "output_type": "stream",
          "text": [
            "              precision    recall  f1-score   support\n",
            "\n",
            "           0       0.90      0.96      0.93       632\n",
            "           1       0.98      0.95      0.96       132\n",
            "           2       0.81      0.89      0.85       192\n",
            "           3       0.92      0.79      0.85       152\n",
            "           4       0.94      0.71      0.81       144\n",
            "\n",
            "    accuracy                           0.90      1252\n",
            "   macro avg       0.91      0.86      0.88      1252\n",
            "weighted avg       0.90      0.90      0.90      1252\n",
            "\n"
          ],
          "name": "stdout"
        }
      ]
    },
    {
      "cell_type": "code",
      "metadata": {
        "id": "oYIwkk1a6LjX",
        "colab": {
          "base_uri": "https://localhost:8080/"
        },
        "outputId": "df6c83b9-56b6-43f6-945e-64d2e114ed5b"
      },
      "source": [
        "import datetime\r\n",
        "\r\n",
        "x = datetime.datetime.now()\r\n",
        "print(str(x.strftime(\"%H%M%S\")))\r\n",
        "\r\n",
        "pd.DataFrame(preds, columns=['label']).to_csv('ans'+str(x.strftime(\"%H%M%S\"))+'.csv', index=None)"
      ],
      "execution_count": null,
      "outputs": [
        {
          "output_type": "stream",
          "text": [
            "075030\n"
          ],
          "name": "stdout"
        }
      ]
    },
    {
      "cell_type": "code",
      "metadata": {
        "id": "YqzLS7rHTp4T"
      },
      "source": [
        ""
      ],
      "execution_count": null,
      "outputs": []
    },
    {
      "cell_type": "markdown",
      "metadata": {
        "id": "iSwpF-8LrhON"
      },
      "source": [
        "--------------------------"
      ]
    },
    {
      "cell_type": "code",
      "metadata": {
        "id": "1uLfWx0Crj11"
      },
      "source": [
        ""
      ],
      "execution_count": null,
      "outputs": []
    },
    {
      "cell_type": "code",
      "metadata": {
        "id": "bgCrDrgPrjz0"
      },
      "source": [
        ""
      ],
      "execution_count": null,
      "outputs": []
    },
    {
      "cell_type": "code",
      "metadata": {
        "id": "phZjVjWqrjx-"
      },
      "source": [
        ""
      ],
      "execution_count": null,
      "outputs": []
    },
    {
      "cell_type": "code",
      "metadata": {
        "id": "grXj5gwirjt-"
      },
      "source": [
        ""
      ],
      "execution_count": null,
      "outputs": []
    },
    {
      "cell_type": "code",
      "metadata": {
        "id": "MKrSTYWOrjru"
      },
      "source": [
        ""
      ],
      "execution_count": null,
      "outputs": []
    },
    {
      "cell_type": "code",
      "metadata": {
        "id": "HWuptGEerjp2"
      },
      "source": [
        ""
      ],
      "execution_count": null,
      "outputs": []
    },
    {
      "cell_type": "code",
      "metadata": {
        "id": "QG5s1jvNrjmQ"
      },
      "source": [
        ""
      ],
      "execution_count": null,
      "outputs": []
    },
    {
      "cell_type": "code",
      "metadata": {
        "id": "KT5rQTuRrjjm"
      },
      "source": [
        ""
      ],
      "execution_count": null,
      "outputs": []
    },
    {
      "cell_type": "code",
      "metadata": {
        "id": "3QfUcvMxrjhH"
      },
      "source": [
        ""
      ],
      "execution_count": null,
      "outputs": []
    },
    {
      "cell_type": "markdown",
      "metadata": {
        "id": "MMa5EKKRH2cu"
      },
      "source": [
        "Voting of Classes (to be done at the last after running the above code 5 times)"
      ]
    },
    {
      "cell_type": "code",
      "metadata": {
        "id": "4nuAwyQ1C5mi"
      },
      "source": [
        "ans1 = pd.read_csv('/content/ans202137.csv')\r\n",
        "ans1 = np.array(ans1['label'])\r\n",
        "ans2 = pd.read_csv('/content/ans203152.csv')\r\n",
        "ans2 = np.array(ans2['label'])\r\n",
        "ans3 = pd.read_csv('/content/ans203649.csv')\r\n",
        "ans3 = np.array(ans3['label'])\r\n",
        "ans4 = pd.read_csv('/content/ans203952.csv')\r\n",
        "ans4 = np.array(ans4['label'])\r\n",
        "ans5 = pd.read_csv('/content/ans204153.csv')\r\n",
        "ans5 = np.array(ans5['label'])"
      ],
      "execution_count": null,
      "outputs": []
    },
    {
      "cell_type": "code",
      "metadata": {
        "id": "fgdLGC7eIJ-u"
      },
      "source": [
        "ans = pd.DataFrame()\r\n",
        "ans[\"1\"] = ans1\r\n",
        "ans[\"2\"] = ans2\r\n",
        "ans[\"3\"] = ans3\r\n",
        "ans[\"4\"] = ans4\r\n",
        "ans[\"5\"] = ans5\r\n",
        "ans[\"sum\"] = ans[\"1\"] +ans[\"2\"] +ans[\"3\"] +ans[\"4\"] +ans[\"5\"]\r\n",
        "def vote(x):\r\n",
        "    if x>=3:\r\n",
        "        return 1\r\n",
        "    return 0\r\n",
        "ans[\"vote\"] = ans['sum'].apply(vote)\r\n",
        "ans.head()"
      ],
      "execution_count": null,
      "outputs": []
    },
    {
      "cell_type": "code",
      "metadata": {
        "id": "W3GvGizoJzDt"
      },
      "source": [
        "print(classification_report(val_y, ans['vote']))"
      ],
      "execution_count": null,
      "outputs": []
    }
  ]
}